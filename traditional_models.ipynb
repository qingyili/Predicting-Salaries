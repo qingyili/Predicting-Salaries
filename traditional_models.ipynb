{
 "cells": [
  {
   "cell_type": "code",
   "execution_count": null,
   "metadata": {
    "collapsed": true
   },
   "outputs": [],
   "source": [
    "import pandas as pd\n",
    "import numpy as np "
   ]
  },
  {
   "cell_type": "code",
   "execution_count": null,
   "metadata": {
    "collapsed": false
   },
   "outputs": [],
   "source": [
    "from sklearn.ensemble import RandomForestClassifier\n",
    "from sklearn.linear_model import LogisticRegression\n",
    "from sklearn.svm import SVC"
   ]
  },
  {
   "cell_type": "code",
   "execution_count": null,
   "metadata": {
    "collapsed": true
   },
   "outputs": [],
   "source": [
    "train = pd.read_csv('microdata_processed/train_train.csv')\n",
    "test = pd.read_csv('microdata_processed/train_test_set.csv')\n",
    "x_col = list(train.columns.values)\n",
    "\n",
    "x_col.remove('Unnamed: 0')\n",
    "x_col.remove('CASEID')\n",
    "x_col.remove('morethan60kyr')\n",
    "\n",
    "train_y=train['morethan60kyr']\n",
    "test_y = test['morethan60kyr']\n",
    "\n",
    "train_x = train[x_col]\n",
    "test_x = test[x_col]"
   ]
  },
  {
   "cell_type": "code",
   "execution_count": null,
   "metadata": {
    "collapsed": false
   },
   "outputs": [],
   "source": [
    "rf = RandomForestClassifier(n_estimators=30, n_jobs=-1,min_samples_split=5,max_features=50)\n",
    "rf.fit(train_x,train_y)\n",
    "\n",
    "rf.score(train_x,train_y)\n",
    "\n",
    "rf.score(test_x,test_y)\n",
    "\n",
    "importance = rf.feature_importances_\n",
    "\n",
    "imp_arg = np.argsort(importance)\n",
    "imp_arg=imp_arg[::-1]\n",
    "\n",
    "top_k = 100\n",
    "imp_arg[:top_k]"
   ]
  },
  {
   "cell_type": "code",
   "execution_count": null,
   "metadata": {
    "collapsed": false,
    "scrolled": true
   },
   "outputs": [],
   "source": [
    "rf2 = RandomForestClassifier(n_jobs=-1,min_samples_split=5,max_features=.2)\n",
    "rf2.fit(train_x[imp_arg],train_y)"
   ]
  },
  {
   "cell_type": "code",
   "execution_count": null,
   "metadata": {
    "collapsed": false
   },
   "outputs": [],
   "source": [
    "rf2.score(train_x[imp_arg],train_y)"
   ]
  },
  {
   "cell_type": "code",
   "execution_count": null,
   "metadata": {
    "collapsed": false
   },
   "outputs": [],
   "source": [
    "rf2.score(test_x[imp_arg],test_y)"
   ]
  },
  {
   "cell_type": "code",
   "execution_count": null,
   "metadata": {
    "collapsed": true
   },
   "outputs": [],
   "source": [
    "log = LogisticRegression(n_jobs=-1,C=3)"
   ]
  },
  {
   "cell_type": "code",
   "execution_count": null,
   "metadata": {
    "collapsed": false
   },
   "outputs": [],
   "source": [
    "log.fit(train_x,train_y)"
   ]
  },
  {
   "cell_type": "code",
   "execution_count": null,
   "metadata": {
    "collapsed": false
   },
   "outputs": [],
   "source": [
    "log.score(train_x,train_y)"
   ]
  },
  {
   "cell_type": "code",
   "execution_count": null,
   "metadata": {
    "collapsed": false
   },
   "outputs": [],
   "source": [
    "log.score(test_x,test_y)"
   ]
  },
  {
   "cell_type": "code",
   "execution_count": null,
   "metadata": {
    "collapsed": false
   },
   "outputs": [],
   "source": [
    "acc_all =[]\n",
    "for c in [0.001,0.01,0.1,0.2,0.5,0.7,0.9,1.2,1.5]:\n",
    "    svm = SVC(c)\n",
    "    svm.fit(train_x[imp_arg],train_y)\n",
    "    acc =svm.score(test_x[imp_arg],test_y)\n",
    "    acc_all.append(acc)\n",
    "    print(c,acc)"
   ]
  },
  {
   "cell_type": "code",
   "execution_count": null,
   "metadata": {
    "collapsed": false
   },
   "outputs": [],
   "source": [
    "for c in [1.1,1.3,1.4,1.6]:\n",
    "    svm = SVC(c)\n",
    "    svm.fit(train_x[imp_arg],train_y)\n",
    "    acc =svm.score(test_x[imp_arg],test_y)\n",
    "    acc_all.append(acc)\n",
    "    print(c,acc)"
   ]
  },
  {
   "cell_type": "code",
   "execution_count": null,
   "metadata": {
    "collapsed": false
   },
   "outputs": [],
   "source": [
    "for c in [1.7,1,8,1.9,2,2.1,2.5,3]:\n",
    "    svm = SVC(c)\n",
    "    svm.fit(train_x[imp_arg],train_y)\n",
    "    acc =svm.score(test_x[imp_arg],test_y)\n",
    "    acc_all.append(acc)\n",
    "    print(c,acc)"
   ]
  },
  {
   "cell_type": "code",
   "execution_count": null,
   "metadata": {
    "collapsed": true
   },
   "outputs": [],
   "source": [
    "for c in [10,15,20,30,100]:\n",
    "    svm = SVC(c)\n",
    "    svm.fit(train_x[imp_arg],train_y)\n",
    "    acc =svm.score(test_x[imp_arg],test_y)\n",
    "    acc_all.append(acc)\n",
    "    print(c,acc)"
   ]
  },
  {
   "cell_type": "code",
   "execution_count": null,
   "metadata": {
    "collapsed": true
   },
   "outputs": [],
   "source": []
  }
 ],
 "metadata": {
  "kernelspec": {
   "display_name": "Python 2",
   "language": "python",
   "name": "python2"
  },
  "language_info": {
   "codemirror_mode": {
    "name": "ipython",
    "version": 2
   },
   "file_extension": ".py",
   "mimetype": "text/x-python",
   "name": "python",
   "nbconvert_exporter": "python",
   "pygments_lexer": "ipython2",
   "version": "2.7.11"
  }
 },
 "nbformat": 4,
 "nbformat_minor": 0
}
